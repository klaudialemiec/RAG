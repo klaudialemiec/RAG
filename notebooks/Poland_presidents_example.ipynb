{
 "cells": [
  {
   "cell_type": "code",
   "execution_count": 1,
   "metadata": {},
   "outputs": [
    {
     "data": {
      "text/html": [
       "\n",
       "                <script type=\"application/javascript\" id=\"jupyter_black\">\n",
       "                (function() {\n",
       "                    if (window.IPython === undefined) {\n",
       "                        return\n",
       "                    }\n",
       "                    var msg = \"WARNING: it looks like you might have loaded \" +\n",
       "                        \"jupyter_black in a non-lab notebook with \" +\n",
       "                        \"`is_lab=True`. Please double check, and if \" +\n",
       "                        \"loading with `%load_ext` please review the README!\"\n",
       "                    console.log(msg)\n",
       "                    alert(msg)\n",
       "                })()\n",
       "                </script>\n",
       "                "
      ],
      "text/plain": [
       "<IPython.core.display.HTML object>"
      ]
     },
     "metadata": {},
     "output_type": "display_data"
    }
   ],
   "source": [
    "%load_ext autoreload\n",
    "%autoreload 2\n",
    "\n",
    "%load_ext jupyter_black\n",
    "%load_ext dotenv\n",
    "%dotenv"
   ]
  },
  {
   "cell_type": "code",
   "execution_count": 2,
   "metadata": {},
   "outputs": [],
   "source": [
    "import sys\n",
    "import os\n",
    "\n",
    "sys.path.append(\"..\")"
   ]
  },
  {
   "cell_type": "code",
   "execution_count": 3,
   "metadata": {},
   "outputs": [],
   "source": [
    "import json\n",
    "\n",
    "from langchain_community.embeddings import HuggingFaceEmbeddings\n",
    "from tqdm.notebook import tqdm\n",
    "\n",
    "from scripts.scraper import BasicScrapper\n",
    "from scripts.rag import RAG"
   ]
  },
  {
   "cell_type": "markdown",
   "metadata": {},
   "source": [
    "# Create database"
   ]
  },
  {
   "cell_type": "code",
   "execution_count": 4,
   "metadata": {},
   "outputs": [
    {
     "data": {
      "application/vnd.jupyter.widget-view+json": {
       "model_id": "ec99f489d68e4c4d86a93a491d516c33",
       "version_major": 2,
       "version_minor": 0
      },
      "text/plain": [
       "  0%|          | 0/10 [00:00<?, ?it/s]"
      ]
     },
     "metadata": {},
     "output_type": "display_data"
    }
   ],
   "source": [
    "scrapper = BasicScrapper()\n",
    "\n",
    "polands_presidents_pages = [\n",
    "    \"https://en.wikipedia.org/wiki/President_of_Poland\",\n",
    "    \"https://en.wikipedia.org/wiki/Gabriel_Narutowicz\",\n",
    "    \"https://en.wikipedia.org/wiki/Stanis%C5%82aw_Wojciechowski\",\n",
    "    \"https://en.wikipedia.org/wiki/Ignacy_Mo%C5%9Bcicki\",\n",
    "    \"https://pl.wikipedia.org/wiki/Wojciech_Jaruzelski\",\n",
    "    \"https://pl.wikipedia.org/wiki/Lech_Wa%C5%82%C4%99sa\",\n",
    "    \"https://pl.wikipedia.org/wiki/Aleksander_Kwa%C5%9Bniewski\",\n",
    "    \"https://pl.wikipedia.org/wiki/Lech_Kaczy%C5%84ski\",\n",
    "    \"https://pl.wikipedia.org/wiki/Bronis%C5%82aw_Komorowski\",\n",
    "    \"https://en.wikipedia.org/wiki/Andrzej_Duda\",\n",
    "]\n",
    "\n",
    "# scrap all pages and save them to data/raw/polish_presiedents\n",
    "for page in tqdm(polands_presidents_pages):\n",
    "    scraped_page = scrapper.crawl(page)\n",
    "\n",
    "    with open(f'../data/raw/polish_presidents/{scraped_page[\"title\"]}.json', \"w\") as f:\n",
    "        json.dump(scraped_page, f)"
   ]
  },
  {
   "cell_type": "markdown",
   "metadata": {},
   "source": [
    "# Add knowledge sources to the RAG"
   ]
  },
  {
   "cell_type": "code",
   "execution_count": 7,
   "metadata": {},
   "outputs": [
    {
     "name": "stderr",
     "output_type": "stream",
     "text": [
      "/Users/klemiec/Projects/wikipedia_RAG/venv/lib/python3.10/site-packages/huggingface_hub/file_download.py:1132: FutureWarning: `resume_download` is deprecated and will be removed in version 1.0.0. Downloads always resume when possible. If you want to force a new download, use `force_download=True`.\n",
      "  warnings.warn(\n"
     ]
    }
   ],
   "source": [
    "embedding = HuggingFaceEmbeddings(model_name=f\"sentence-transformers/gtr-t5-base\")\n",
    "embedding.client.similarity_fn_name = \"cosine\""
   ]
  },
  {
   "cell_type": "code",
   "execution_count": 8,
   "metadata": {},
   "outputs": [],
   "source": [
    "rag = RAG(\n",
    "    index_name=\"presidents\",\n",
    "    embedding_model=embedding,\n",
    "    pinecone_api_key=os.getenv(\"PINECONE_API_KEY\"),\n",
    "    google_api_key=os.getenv(\"GOOGLE_API_KEY\"),\n",
    ")"
   ]
  },
  {
   "cell_type": "code",
   "execution_count": 9,
   "metadata": {},
   "outputs": [],
   "source": [
    "# depending on the size of the data this might take a while\n",
    "rag.prepare_vector_store(\"../data/raw/polish_presidents\")"
   ]
  },
  {
   "cell_type": "code",
   "execution_count": 10,
   "metadata": {},
   "outputs": [
    {
     "name": "stdout",
     "output_type": "stream",
     "text": [
      "Gabriel Narutowicz was the first president of Poland. He was born on March 29, 1865, in Telšiai, Lithuania, then part of the Russian Empire. He was a professor of hydroelectric engineering and politician who served as the first President of Poland from 11 December 1922 until his assassination on 16 December, five days after assuming office. He previously served as the Minister of Public Works from 1920 to 1922 and briefly as Minister of Foreign Affairs in 1922. A renowned engineer and politically independent, Narutowicz was the first non-Catholic to be elected president of Poland. His assassination was a major political crisis in Poland and led to a period of instability.\n"
     ]
    }
   ],
   "source": [
    "print(rag.ask(\"Who was the first president of Poland and when he/she was born?\"))"
   ]
  },
  {
   "cell_type": "code",
   "execution_count": 11,
   "metadata": {},
   "outputs": [
    {
     "name": "stdout",
     "output_type": "stream",
     "text": [
      "Here is a list of all Polish presidents and the years of their presidency:\n",
      "\n",
      "* Gabriel Narutowicz (1922)\n",
      "* Stanisław Wojciechowski (1922–1926)\n",
      "* Ignacy Mościcki (1926–1939)\n",
      "* Władysław Raczkiewicz (1939–1947)\n",
      "* August Zaleski (1947–1952)\n",
      "* Bolesław Bierut (1952–1954)\n",
      "* Edward Ochab (1954–1964)\n",
      "* Aleksander Zawadzki (1964–1972)\n",
      "* Stanisław Gierek (1972–1980)\n",
      "* Wojciech Jaruzelski (1985–1990)\n",
      "* Lech Wałęsa (1990–1995)\n",
      "* Aleksander Kwaśniewski (1995–2005)\n",
      "* Lech Kaczyński (2005–2010)\n",
      "* Bronisław Komorowski (2010–2015)\n",
      "* Andrzej Duda (2015–present)\n",
      "\n",
      "Please note that this list only includes the presidents of the Second Polish Republic (1918–1939) and the Third Polish Republic (1989–present). There were also presidents of the Polish People's Republic (1947–1989), but they were not elected by the people, but rather by the Sejm, the Polish parliament.\n"
     ]
    }
   ],
   "source": [
    "print(rag.ask(\"List all polish presidents and the years of their presidency.\"))"
   ]
  },
  {
   "cell_type": "code",
   "execution_count": null,
   "metadata": {},
   "outputs": [],
   "source": []
  }
 ],
 "metadata": {
  "kernelspec": {
   "display_name": "venv",
   "language": "python",
   "name": "python3"
  },
  "language_info": {
   "codemirror_mode": {
    "name": "ipython",
    "version": 3
   },
   "file_extension": ".py",
   "mimetype": "text/x-python",
   "name": "python",
   "nbconvert_exporter": "python",
   "pygments_lexer": "ipython3",
   "version": "3.10.10"
  }
 },
 "nbformat": 4,
 "nbformat_minor": 2
}
